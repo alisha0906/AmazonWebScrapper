{
  "nbformat": 4,
  "nbformat_minor": 0,
  "metadata": {
    "colab": {
      "provenance": []
    },
    "kernelspec": {
      "name": "python3",
      "display_name": "Python 3"
    },
    "language_info": {
      "name": "python"
    }
  },
  "cells": [
    {
      "cell_type": "markdown",
      "source": [
        "This is Python-based Web Scrapping Project. In this project, an email is sent to you, when there is a price-drop of a particular product ."
      ],
      "metadata": {
        "id": "JTnf1Zji9UrR"
      }
    },
    {
      "cell_type": "code",
      "execution_count": null,
      "metadata": {
        "id": "JQdzSvmvtlgw"
      },
      "outputs": [],
      "source": [
        "#import libraries\n",
        "\n",
        "from bs4 import BeautifulSoup\n",
        "import requests\n",
        "import time\n",
        "import datetime\n",
        "\n",
        "import smtplib"
      ]
    },
    {
      "cell_type": "code",
      "source": [
        "#Connect to website\n",
        "\n",
        "URL = 'https://www.amazon.in/Apple-Retina-Display-24-inch-8%E2%80%91core/dp/B0932PMP59?ref_=Oct_DLandingS_D_c0ec2760_72&th=1'\n",
        "\n",
        "headers = {\"User-Agent\": \"Mozilla/5.0 (Windows NT 10.0; Win64; x64) AppleWebKit/537.36 (KHTML, like Gecko) Chrome/78.0.3904.108 Safari/537.36\", \"Accept-Encoding\":\"gzip, deflate\", \"Accept\":\"text/html,application/xhtml+xml,application/xml;q=0.9,*/*;q=0.8\", \"DNT\":\"1\",\"Connection\":\"close\", \"Upgrade-Insecure-Requests\":\"1\"}\n",
        "\n",
        "#Bringing in the data\n",
        "page = requests.get(URL, headers = headers)\n",
        "\n",
        "Soup1 = BeautifulSoup(page.content, \"html.parser\")\n",
        "# The prettify() method will turn a Beautiful Soup parse tree into a nicely formatted Unicode string, with a separate line for each tag and each string.\n",
        "soup2 = BeautifulSoup(Soup1.prettify(),\"html.parser\")\n",
        "\n",
        "title = soup2.find(id = 'productTitle').text\n",
        "# print(title)\n",
        "\n",
        "#class_ this is how you fetch element using class(with underscore)\n",
        "price = soup2.find(class_ = 'a-offscreen').get_text()\n",
        "# print(price)\n",
        "\n",
        "price = price.strip()[1:]\n",
        "title = title.strip()\n",
        "print(price)\n",
        "print(title)"
      ],
      "metadata": {
        "colab": {
          "base_uri": "https://localhost:8080/"
        },
        "id": "_HtMw0t4t6Xv",
        "outputId": "9300a1f8-ec0b-4313-8c3a-aaed05751844"
      },
      "execution_count": null,
      "outputs": [
        {
          "output_type": "stream",
          "name": "stdout",
          "text": [
            "1,08,490.00\n",
            "Apple 2021 iMac with 4.5K Retina Display (24-inch/60.96 cm, M1 chip with 8‑core CPU and 7‑core GPU, 8GB RAM, 256GB) - Pink\n"
          ]
        }
      ]
    },
    {
      "cell_type": "code",
      "source": [
        "import datetime\n",
        "today = datetime.date.today()"
      ],
      "metadata": {
        "id": "lbmLydfTDz8E"
      },
      "execution_count": null,
      "outputs": []
    },
    {
      "cell_type": "code",
      "source": [
        "import csv\n",
        "\n",
        "header = ['Title', 'Price', 'Date']\n",
        "data = [title, price, today]\n",
        "\n",
        "#newline = '' means wehn we insert new data, there is no spaces \n",
        "with open('AmazonWebScrapperDataset.csv','w', newline='', encoding = 'UTF8') as f:\n",
        "  # The csv. writer() function returns a writer object that converts the user's data into a delimited string. This string \n",
        "  # can later be used to write into CSV files using the writerow() function.\n",
        "  writer = csv.writer(f)\n",
        "  writer.writerow(header)\n",
        "  writer.writerow(data)\n"
      ],
      "metadata": {
        "id": "bIjCOyn-vgY6"
      },
      "execution_count": null,
      "outputs": []
    },
    {
      "cell_type": "code",
      "source": [
        "import pandas as pd\n",
        "df = pd.read_csv(r'/content/AmazonWebScrapperDataset.csv')\n",
        "print(df)"
      ],
      "metadata": {
        "colab": {
          "base_uri": "https://localhost:8080/"
        },
        "id": "X1Id-BRZERSq",
        "outputId": "73886ea2-0c69-4020-a937-7fab1920368d"
      },
      "execution_count": null,
      "outputs": [
        {
          "output_type": "stream",
          "name": "stdout",
          "text": [
            "                                               Title        Price        Date\n",
            "0  Apple 2021 iMac with 4.5K Retina Display (24-i...  1,08,490.00  2023-01-08\n",
            "1  Apple 2021 iMac with 4.5K Retina Display (24-i...  1,08,490.00  2023-01-08\n",
            "2  Apple 2021 iMac with 4.5K Retina Display (24-i...  1,08,490.00  2023-01-08\n",
            "3  Apple 2021 iMac with 4.5K Retina Display (24-i...  1,08,490.00  2023-01-08\n",
            "4  Apple 2021 iMac with 4.5K Retina Display (24-i...  1,08,490.00  2023-01-08\n"
          ]
        }
      ]
    },
    {
      "cell_type": "code",
      "source": [
        "#Now we are appending data to the csv\n",
        "with open('AmazonWebScrapperDataset.csv', 'a+', newline='', encoding = 'UTF8') as f:\n",
        "  writer = csv.writer(f)\n",
        "  writer.writerow(data)"
      ],
      "metadata": {
        "id": "jeBTDwFl4qdM"
      },
      "execution_count": null,
      "outputs": []
    },
    {
      "cell_type": "code",
      "source": [
        "def check_price():\n",
        "  URL = 'https://www.amazon.in/Apple-Retina-Display-24-inch-8%E2%80%91core/dp/B0932PMP59?ref_=Oct_DLandingS_D_c0ec2760_72&th=1'\n",
        "\n",
        "  headers = {\"User-Agent\": \"Mozilla/5.0 (Windows NT 10.0; Win64; x64) AppleWebKit/537.36 (KHTML, like Gecko) Chrome/78.0.3904.108 Safari/537.36\", \"Accept-Encoding\":\"gzip, deflate\", \"Accept\":\"text/html,application/xhtml+xml,application/xml;q=0.9,*/*;q=0.8\", \"DNT\":\"1\",\"Connection\":\"close\", \"Upgrade-Insecure-Requests\":\"1\"}\n",
        "\n",
        "  #Bringing in the data\n",
        "  page = requests.get(URL, headers = headers)\n",
        "\n",
        "  Soup1 = BeautifulSoup(page.content, \"html.parser\")\n",
        "  # The prettify() method will turn a Beautiful Soup parse tree into a nicely formatted Unicode string, with a separate line for each tag and each string: Python3.\n",
        "  soup2 = BeautifulSoup(Soup1.prettify(),\"html.parser\")\n",
        "\n",
        "  title = soup2.find(id = 'productTitle').text\n",
        "  # print(title)\n",
        "\n",
        "  #class_ this is how you fetch element using class(with underscore)\n",
        "  price = soup2.find(class_ = 'a-offscreen').get_text()\n",
        "  price = price.strip()[1:]\n",
        "  title = title.strip() \n",
        "\n",
        "  import datetime\n",
        "\n",
        "  today = datetime.date.today()\n",
        "  import csv\n",
        "\n",
        "  header = ['Title', 'Price', 'Date']\n",
        "  data = [title, price, today]\n",
        "  with open('AmazonWebScrapperDataset.csv', 'a+', newline='', encoding = 'UTF8') as f:\n",
        "    writer = csv.writer(f)\n",
        "    writer.writerow(data)\n",
        "\n",
        "  if(price< 100000):\n",
        "    send_mail()\n",
        "\n"
      ],
      "metadata": {
        "id": "fIVDfDFV6REu"
      },
      "execution_count": null,
      "outputs": []
    },
    {
      "cell_type": "code",
      "source": [
        "while(True) :\n",
        "  check_price()\n",
        "  time.sleep(6)\n",
        "  #time.sleep(86400) -> just 1day = 86400sec ,So it will check price for every day."
      ],
      "metadata": {
        "colab": {
          "base_uri": "https://localhost:8080/",
          "height": 200
        },
        "id": "L9mEDauP7xQd",
        "outputId": "8428e297-6626-4073-a035-e71c561b3d9f"
      },
      "execution_count": null,
      "outputs": [
        {
          "output_type": "error",
          "ename": "KeyboardInterrupt",
          "evalue": "ignored",
          "traceback": [
            "\u001b[0;31m---------------------------------------------------------------------------\u001b[0m",
            "\u001b[0;31mKeyboardInterrupt\u001b[0m                         Traceback (most recent call last)",
            "\u001b[0;32m<ipython-input-16-64d251ec8128>\u001b[0m in \u001b[0;36m<module>\u001b[0;34m\u001b[0m\n\u001b[1;32m      1\u001b[0m \u001b[0;32mwhile\u001b[0m\u001b[0;34m(\u001b[0m\u001b[0;32mTrue\u001b[0m\u001b[0;34m)\u001b[0m \u001b[0;34m:\u001b[0m\u001b[0;34m\u001b[0m\u001b[0;34m\u001b[0m\u001b[0m\n\u001b[1;32m      2\u001b[0m   \u001b[0mcheck_price\u001b[0m\u001b[0;34m(\u001b[0m\u001b[0;34m)\u001b[0m\u001b[0;34m\u001b[0m\u001b[0;34m\u001b[0m\u001b[0m\n\u001b[0;32m----> 3\u001b[0;31m   \u001b[0mtime\u001b[0m\u001b[0;34m.\u001b[0m\u001b[0msleep\u001b[0m\u001b[0;34m(\u001b[0m\u001b[0;36m6\u001b[0m\u001b[0;34m)\u001b[0m\u001b[0;34m\u001b[0m\u001b[0;34m\u001b[0m\u001b[0m\n\u001b[0m",
            "\u001b[0;31mKeyboardInterrupt\u001b[0m: "
          ]
        }
      ]
    },
    {
      "cell_type": "code",
      "source": [
        "def send_mail():\n",
        "  server = smtplib.SMTP_SSL('smtp.gmail.com', 465)\n",
        "  server.ehlo()\n",
        "  server.ehlo()\n",
        "  server.login('mailid', 'password')\n",
        "\n",
        "  subject = \"The Apple product that you want to buy is below Rs.120000! Now it's your chance to buy!\"\n",
        "  body = \"Hi, The price of the product that you are viewing has been reduced. Hurry Up! and grab your product.\"\n",
        "\n",
        "  msg = f\"Subject: {subject}\\n\\n{body}\"\n",
        "  server.sendmail(\n",
        "      'mailid'\n",
        "      msg\n",
        "  )"
      ],
      "metadata": {
        "id": "gf_NPl9k9Qn9"
      },
      "execution_count": null,
      "outputs": []
    }
  ]
}